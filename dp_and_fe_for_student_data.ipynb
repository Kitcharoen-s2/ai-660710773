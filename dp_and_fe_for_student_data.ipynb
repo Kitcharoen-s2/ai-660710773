{
  "cells": [
    {
      "cell_type": "code",
      "execution_count": 57,
      "metadata": {
        "id": "6ts_NETOu13K"
      },
      "outputs": [],
      "source": [
        "import pandas as pd"
      ]
    },
    {
      "cell_type": "code",
      "execution_count": 58,
      "metadata": {
        "id": "5UkEBcehDxoA"
      },
      "outputs": [],
      "source": [
        "df = pd.read_csv(\"student.csv\")"
      ]
    },
    {
      "cell_type": "markdown",
      "metadata": {
        "id": "imxz0W8gLkCy"
      },
      "source": [
        "#3.1 การจัดการข้อมูลหาย"
      ]
    },
    {
      "cell_type": "markdown",
      "metadata": {
        "id": "MeqtjC2gL6nw"
      },
      "source": [
        "วิธีที่ 1 ลบแถวที่มีค่าหาย"
      ]
    },
    {
      "cell_type": "code",
      "execution_count": 59,
      "metadata": {
        "id": "qTB1bH9ZGVbz"
      },
      "outputs": [],
      "source": [
        "data = {\n",
        "    'ชื่อ': ['ก้อง', 'กล้า', 'กิ่ง', 'กานต์', 'กุล', 'กบ', 'กิตติ', 'กมล', 'กร', 'กนก'],\n",
        "    'อายุ': [21, 22, 20, 21, None, 22, 21, 20, 21, 22],  # เฉพาะกุลไม่กรอกอายุ\n",
        "    'GPA': [3.5, 3.2, 3.8, 3.0, 3.7, 3.3, 3.6, 3.4, 3.1, 3.9]\n",
        "}"
      ]
    },
    {
      "cell_type": "code",
      "execution_count": 60,
      "metadata": {
        "id": "k4fdsMqwGlS3"
      },
      "outputs": [],
      "source": [
        "df = pd.DataFrame(data)"
      ]
    },
    {
      "cell_type": "markdown",
      "metadata": {
        "id": "XG1rlW8XJ1UM"
      },
      "source": [
        "สังเกตจากคนที่ชื่อว่า กุล มีอายุเป็นค่า NaN และมีGPA=3.7"
      ]
    },
    {
      "cell_type": "code",
      "execution_count": 61,
      "metadata": {
        "colab": {
          "base_uri": "https://localhost:8080/"
        },
        "id": "LZwVdDE4Gpam",
        "outputId": "8f101db1-ca53-4921-80a7-15715af9b52a"
      },
      "outputs": [
        {
          "name": "stdout",
          "output_type": "stream",
          "text": [
            "ก่อนลบ\n",
            "    ชื่อ  อายุ  GPA\n",
            "0   ก้อง  21.0  3.5\n",
            "1   กล้า  22.0  3.2\n",
            "2   กิ่ง  20.0  3.8\n",
            "3  กานต์  21.0  3.0\n",
            "4    กุล   NaN  3.7\n",
            "5     กบ  22.0  3.3\n",
            "6  กิตติ  21.0  3.6\n",
            "7    กมล  20.0  3.4\n",
            "8     กร  21.0  3.1\n",
            "9    กนก  22.0  3.9\n"
          ]
        }
      ],
      "source": [
        "print(\"ก่อนลบ\")\n",
        "print(df) #นับจำนวนแถวทั้งหมด มี10 แถว"
      ]
    },
    {
      "cell_type": "markdown",
      "metadata": {
        "id": "D5X935yDI2Zu"
      },
      "source": [
        "-ทำหน้าที่ลบข้อควมในแถวที่ไม่มีข้อมูล หรือเป็นNaN ออกจากแถว"
      ]
    },
    {
      "cell_type": "code",
      "execution_count": 62,
      "metadata": {
        "id": "OMHixaW3Gslt"
      },
      "outputs": [],
      "source": [
        "df_clean = df.dropna()"
      ]
    },
    {
      "cell_type": "code",
      "execution_count": 63,
      "metadata": {
        "colab": {
          "base_uri": "https://localhost:8080/"
        },
        "id": "SPRBY8ssGu0t",
        "outputId": "c7b11d50-f9ac-4b97-b416-08c10a925d96"
      },
      "outputs": [
        {
          "name": "stdout",
          "output_type": "stream",
          "text": [
            "\n",
            "ผลการลบ - ก่อนลบ 10 แถว, หลังลบ 9 แถว\n",
            "หลังลบ (เหลือ 9 คน):\n",
            "    ชื่อ  อายุ  GPA\n",
            "0   ก้อง  21.0  3.5\n",
            "1   กล้า  22.0  3.2\n",
            "2   กิ่ง  20.0  3.8\n",
            "3  กานต์  21.0  3.0\n",
            "5     กบ  22.0  3.3\n",
            "6  กิตติ  21.0  3.6\n",
            "7    กมล  20.0  3.4\n",
            "8     กร  21.0  3.1\n",
            "9    กนก  22.0  3.9\n"
          ]
        }
      ],
      "source": [
        "print(f\"\\nผลการลบ - ก่อนลบ {len(df)} แถว, หลังลบ {len(df_clean)} แถว\")\n",
        "print(\"หลังลบ (เหลือ 9 คน):\")\n",
        "print(df_clean) #นับจำนวนแถวหลังลบ มี9 แถว"
      ]
    },
    {
      "cell_type": "markdown",
      "metadata": {
        "id": "OWwGAb6dL-Oc"
      },
      "source": [
        "วิธีที่ 2 เติมค่าด้วยค่าเฉลี่ย"
      ]
    },
    {
      "cell_type": "code",
      "execution_count": 64,
      "metadata": {
        "id": "AV8Z9WA4MBqD"
      },
      "outputs": [],
      "source": [
        "data = {\n",
        "    'ชื่อ': ['สมชาย', 'สมหญิง', 'สมศักดิ์', 'สมใจ', 'สมปอง'],\n",
        "    'อายุ': [20, None, 19, 22, 21]  # สมหญิงไม่ได้กรอกอายุ\n",
        "}"
      ]
    },
    {
      "cell_type": "code",
      "execution_count": 65,
      "metadata": {
        "id": "cyvMzvkKNO-h"
      },
      "outputs": [],
      "source": [
        "df = pd.DataFrame(data)"
      ]
    },
    {
      "cell_type": "code",
      "execution_count": 66,
      "metadata": {
        "colab": {
          "base_uri": "https://localhost:8080/"
        },
        "id": "WvP1u_HONOje",
        "outputId": "107e407f-9096-423f-caa6-f5befffc9206"
      },
      "outputs": [
        {
          "name": "stdout",
          "output_type": "stream",
          "text": [
            "ก่อนเติมค่า\n",
            "       ชื่อ  อายุ\n",
            "0     สมชาย  20.0\n",
            "1    สมหญิง   NaN\n",
            "2  สมศักดิ์  19.0\n",
            "3      สมใจ  22.0\n",
            "4     สมปอง  21.0\n"
          ]
        }
      ],
      "source": [
        "print(\"ก่อนเติมค่า\")\n",
        "print(df)"
      ]
    },
    {
      "cell_type": "markdown",
      "metadata": {
        "id": "PgHGwXMHOF_x"
      },
      "source": [
        "คำนวณค่าเฉลี่ยของคอลัมน์ 'อายุ' โดยไม่รวมค่า NaN\n",
        "\n",
        "เติมค่า 20.5 ลงในช่องที่เป็น NaN (ของสมหญิง)\n",
        "\n",
        "inplace=True คือการแก้ไขข้อมูลใน DataFrame เดิมโดยตรง ไม่สร้าง DataFrame ใหม่"
      ]
    },
    {
      "cell_type": "code",
      "execution_count": 67,
      "metadata": {
        "colab": {
          "base_uri": "https://localhost:8080/"
        },
        "id": "RHcN1ZI6NXc7",
        "outputId": "12e2ab08-5b36-41cd-b462-f59c3edaaf64"
      },
      "outputs": [
        {
          "name": "stderr",
          "output_type": "stream",
          "text": [
            "/tmp/ipython-input-1182873630.py:2: FutureWarning: A value is trying to be set on a copy of a DataFrame or Series through chained assignment using an inplace method.\n",
            "The behavior will change in pandas 3.0. This inplace method will never work because the intermediate object on which we are setting values always behaves as a copy.\n",
            "\n",
            "For example, when doing 'df[col].method(value, inplace=True)', try using 'df.method({col: value}, inplace=True)' or df[col] = df[col].method(value) instead, to perform the operation inplace on the original object.\n",
            "\n",
            "\n",
            "  df['อายุ'].fillna(mean_age, inplace=True)\n"
          ]
        }
      ],
      "source": [
        "mean_age = df['อายุ'].mean()\n",
        "df['อายุ'].fillna(mean_age, inplace=True)"
      ]
    },
    {
      "cell_type": "markdown",
      "metadata": {
        "id": "fAkFhGInO4Xt"
      },
      "source": [
        "แสดงผลค่าเฉลี่ยโดยมีทศนิยม 1 ตำแหน่ง (.1f)"
      ]
    },
    {
      "cell_type": "code",
      "execution_count": 68,
      "metadata": {
        "colab": {
          "base_uri": "https://localhost:8080/"
        },
        "id": "BeJzxe1LNOPW",
        "outputId": "e89faec3-5749-4089-c511-2eaf417a170e"
      },
      "outputs": [
        {
          "name": "stdout",
          "output_type": "stream",
          "text": [
            "\n",
            "ค่าเฉลี่ยอายุ - 20.5 ปี\n",
            "หลังเติมค่า\n",
            "       ชื่อ  อายุ\n",
            "0     สมชาย  20.0\n",
            "1    สมหญิง  20.5\n",
            "2  สมศักดิ์  19.0\n",
            "3      สมใจ  22.0\n",
            "4     สมปอง  21.0\n"
          ]
        }
      ],
      "source": [
        "print(f\"\\nค่าเฉลี่ยอายุ - {mean_age:.1f} ปี\")\n",
        "print(\"หลังเติมค่า\")\n",
        "print(df)"
      ]
    },
    {
      "cell_type": "markdown",
      "metadata": {
        "id": "oLucTwNdPCge"
      },
      "source": [
        "วิธีที่ 3 เติมค่าด้วยค่าที่พบบ่อยที่สุด"
      ]
    },
    {
      "cell_type": "code",
      "execution_count": 69,
      "metadata": {
        "id": "2_kCeLYwPB_u"
      },
      "outputs": [],
      "source": [
        "data = {\n",
        "    'ชื่อ': ['สมชาย', 'สมหญิง', 'สมศักดิ์', 'สมใจ', 'สมปอง'],\n",
        "    'คณะ': ['วิทยาศาสตร์', 'วิทยาศาสตร์', None, 'ศิลปศาสตร์', 'วิทย์']\n",
        "}\n",
        "df = pd.DataFrame(data)"
      ]
    },
    {
      "cell_type": "code",
      "execution_count": 70,
      "metadata": {
        "colab": {
          "base_uri": "https://localhost:8080/"
        },
        "id": "wkfwXjVFPBy2",
        "outputId": "b8f4a092-7af5-4967-ad92-b1c40962bf64"
      },
      "outputs": [
        {
          "name": "stdout",
          "output_type": "stream",
          "text": [
            "ก่อนเติมค่า\n",
            "       ชื่อ          คณะ\n",
            "0     สมชาย  วิทยาศาสตร์\n",
            "1    สมหญิง  วิทยาศาสตร์\n",
            "2  สมศักดิ์         None\n",
            "3      สมใจ   ศิลปศาสตร์\n",
            "4     สมปอง        วิทย์\n"
          ]
        }
      ],
      "source": [
        "print(\"ก่อนเติมค่า\")\n",
        "print(df)"
      ]
    },
    {
      "cell_type": "markdown",
      "metadata": {
        "id": "AaOgjkPhPh8r"
      },
      "source": [
        "การหาค่าที่พบบ่อยที่สุด (Mode) ในคอลัมน์ 'คณะ' ในที่นี้ค่าที่พบบ่อยคือ'วิทยาศาสตร์'\n",
        "\n",
        "[0] - เลือกค่า mode ตัวแรกที่พบ ถึงแม้จะมีหลายค่าก็ตาม\n",
        "\n",
        " เติม 'วิทยาศาสตร์' ลงในช่องที่เป็น NaN"
      ]
    },
    {
      "cell_type": "code",
      "execution_count": 71,
      "metadata": {
        "colab": {
          "base_uri": "https://localhost:8080/"
        },
        "id": "MLKhpsjQPBZm",
        "outputId": "2e5ea867-3c87-4eea-ba3f-5f0f544af6fa"
      },
      "outputs": [
        {
          "name": "stderr",
          "output_type": "stream",
          "text": [
            "/tmp/ipython-input-109974322.py:1: FutureWarning: A value is trying to be set on a copy of a DataFrame or Series through chained assignment using an inplace method.\n",
            "The behavior will change in pandas 3.0. This inplace method will never work because the intermediate object on which we are setting values always behaves as a copy.\n",
            "\n",
            "For example, when doing 'df[col].method(value, inplace=True)', try using 'df.method({col: value}, inplace=True)' or df[col] = df[col].method(value) instead, to perform the operation inplace on the original object.\n",
            "\n",
            "\n",
            "  df['คณะ'].fillna(df['คณะ'].mode()[0], inplace=True)\n"
          ]
        }
      ],
      "source": [
        "df['คณะ'].fillna(df['คณะ'].mode()[0], inplace=True)"
      ]
    },
    {
      "cell_type": "code",
      "execution_count": 72,
      "metadata": {
        "colab": {
          "base_uri": "https://localhost:8080/"
        },
        "id": "gapTjk-JPOsY",
        "outputId": "36e4f6db-d575-474e-b7ef-b48efd040dd5"
      },
      "outputs": [
        {
          "name": "stdout",
          "output_type": "stream",
          "text": [
            "\n",
            "หลังเติมค่า\n",
            "       ชื่อ          คณะ\n",
            "0     สมชาย  วิทยาศาสตร์\n",
            "1    สมหญิง  วิทยาศาสตร์\n",
            "2  สมศักดิ์  วิทยาศาสตร์\n",
            "3      สมใจ   ศิลปศาสตร์\n",
            "4     สมปอง        วิทย์\n"
          ]
        }
      ],
      "source": [
        "print(\"\\nหลังเติมค่า\")\n",
        "print(df)"
      ]
    },
    {
      "cell_type": "markdown",
      "metadata": {
        "id": "n5heipYGLo3J"
      },
      "source": [
        "#3.2 การทำให้ข้อมูลเป็นมาตรฐาน"
      ]
    },
    {
      "cell_type": "markdown",
      "metadata": {
        "id": "bvfH3RNIQhHS"
      },
      "source": [
        "สร้างฟังก์ชันที่รับชื่อคณะเข้ามาแล้วแปลงเป็นชื่อมาตรฐาน\n",
        "\n",
        "if คือเงื่อนไขในการตรวจสอบว่าชื่อที่รับเข้ามาอยู่ใน list หรือไม่ และทำการคืนค่าชื่อคณะที่เป็นมาตรฐาน\n"
      ]
    },
    {
      "cell_type": "code",
      "execution_count": 73,
      "metadata": {
        "id": "Kl2ny7TyGwtI"
      },
      "outputs": [],
      "source": [
        "def standardize_faculty(name):\n",
        "    if name in ['วิทยาศาสตร์', 'วิทย์', 'Science', 'คณะวิทยาศาสตร์']:\n",
        "        return 'วิทยาศาสตร์'\n",
        "    elif name in ['ศิลปศาสตร์', 'ศิลป์', 'Arts']:\n",
        "        return 'ศิลปศาสตร์'\n",
        "    else:\n",
        "        return name"
      ]
    },
    {
      "cell_type": "markdown",
      "metadata": {
        "id": "X-khNoiYRLzP"
      },
      "source": [
        "สร้างคอลัมน์ใหม่มาเก็บชื่อคณะที่เป็นมาตรฐาน หลังจาก ใช้ฟังก์ชันกับทุกค่าในคอลัมน์ 'คณะ'"
      ]
    },
    {
      "cell_type": "code",
      "execution_count": 74,
      "metadata": {
        "id": "btb_PSGqQGEr"
      },
      "outputs": [],
      "source": [
        "df['คณะ_มาตรฐาน'] = df['คณะ'].apply(standardize_faculty)"
      ]
    },
    {
      "cell_type": "code",
      "execution_count": 75,
      "metadata": {
        "colab": {
          "base_uri": "https://localhost:8080/",
          "height": 206
        },
        "id": "r5BDRHsuQJH3",
        "outputId": "80a4b495-7355-4d89-8fea-794c422225f4"
      },
      "outputs": [
        {
          "data": {
            "application/vnd.google.colaboratory.intrinsic+json": {
              "summary": "{\n  \"name\": \"df\",\n  \"rows\": 5,\n  \"fields\": [\n    {\n      \"column\": \"\\u0e0a\\u0e37\\u0e48\\u0e2d\",\n      \"properties\": {\n        \"dtype\": \"string\",\n        \"num_unique_values\": 5,\n        \"samples\": [\n          \"\\u0e2a\\u0e21\\u0e2b\\u0e0d\\u0e34\\u0e07\",\n          \"\\u0e2a\\u0e21\\u0e1b\\u0e2d\\u0e07\",\n          \"\\u0e2a\\u0e21\\u0e28\\u0e31\\u0e01\\u0e14\\u0e34\\u0e4c\"\n        ],\n        \"semantic_type\": \"\",\n        \"description\": \"\"\n      }\n    },\n    {\n      \"column\": \"\\u0e04\\u0e13\\u0e30\",\n      \"properties\": {\n        \"dtype\": \"string\",\n        \"num_unique_values\": 3,\n        \"samples\": [\n          \"\\u0e27\\u0e34\\u0e17\\u0e22\\u0e32\\u0e28\\u0e32\\u0e2a\\u0e15\\u0e23\\u0e4c\",\n          \"\\u0e28\\u0e34\\u0e25\\u0e1b\\u0e28\\u0e32\\u0e2a\\u0e15\\u0e23\\u0e4c\",\n          \"\\u0e27\\u0e34\\u0e17\\u0e22\\u0e4c\"\n        ],\n        \"semantic_type\": \"\",\n        \"description\": \"\"\n      }\n    },\n    {\n      \"column\": \"\\u0e04\\u0e13\\u0e30_\\u0e21\\u0e32\\u0e15\\u0e23\\u0e10\\u0e32\\u0e19\",\n      \"properties\": {\n        \"dtype\": \"category\",\n        \"num_unique_values\": 2,\n        \"samples\": [\n          \"\\u0e28\\u0e34\\u0e25\\u0e1b\\u0e28\\u0e32\\u0e2a\\u0e15\\u0e23\\u0e4c\",\n          \"\\u0e27\\u0e34\\u0e17\\u0e22\\u0e32\\u0e28\\u0e32\\u0e2a\\u0e15\\u0e23\\u0e4c\"\n        ],\n        \"semantic_type\": \"\",\n        \"description\": \"\"\n      }\n    }\n  ]\n}",
              "type": "dataframe",
              "variable_name": "df"
            },
            "text/html": [
              "\n",
              "  <div id=\"df-c33b617f-6444-406d-8c84-3762c385f235\" class=\"colab-df-container\">\n",
              "    <div>\n",
              "<style scoped>\n",
              "    .dataframe tbody tr th:only-of-type {\n",
              "        vertical-align: middle;\n",
              "    }\n",
              "\n",
              "    .dataframe tbody tr th {\n",
              "        vertical-align: top;\n",
              "    }\n",
              "\n",
              "    .dataframe thead th {\n",
              "        text-align: right;\n",
              "    }\n",
              "</style>\n",
              "<table border=\"1\" class=\"dataframe\">\n",
              "  <thead>\n",
              "    <tr style=\"text-align: right;\">\n",
              "      <th></th>\n",
              "      <th>ชื่อ</th>\n",
              "      <th>คณะ</th>\n",
              "      <th>คณะ_มาตรฐาน</th>\n",
              "    </tr>\n",
              "  </thead>\n",
              "  <tbody>\n",
              "    <tr>\n",
              "      <th>0</th>\n",
              "      <td>สมชาย</td>\n",
              "      <td>วิทยาศาสตร์</td>\n",
              "      <td>วิทยาศาสตร์</td>\n",
              "    </tr>\n",
              "    <tr>\n",
              "      <th>1</th>\n",
              "      <td>สมหญิง</td>\n",
              "      <td>วิทยาศาสตร์</td>\n",
              "      <td>วิทยาศาสตร์</td>\n",
              "    </tr>\n",
              "    <tr>\n",
              "      <th>2</th>\n",
              "      <td>สมศักดิ์</td>\n",
              "      <td>วิทยาศาสตร์</td>\n",
              "      <td>วิทยาศาสตร์</td>\n",
              "    </tr>\n",
              "    <tr>\n",
              "      <th>3</th>\n",
              "      <td>สมใจ</td>\n",
              "      <td>ศิลปศาสตร์</td>\n",
              "      <td>ศิลปศาสตร์</td>\n",
              "    </tr>\n",
              "    <tr>\n",
              "      <th>4</th>\n",
              "      <td>สมปอง</td>\n",
              "      <td>วิทย์</td>\n",
              "      <td>วิทยาศาสตร์</td>\n",
              "    </tr>\n",
              "  </tbody>\n",
              "</table>\n",
              "</div>\n",
              "    <div class=\"colab-df-buttons\">\n",
              "\n",
              "  <div class=\"colab-df-container\">\n",
              "    <button class=\"colab-df-convert\" onclick=\"convertToInteractive('df-c33b617f-6444-406d-8c84-3762c385f235')\"\n",
              "            title=\"Convert this dataframe to an interactive table.\"\n",
              "            style=\"display:none;\">\n",
              "\n",
              "  <svg xmlns=\"http://www.w3.org/2000/svg\" height=\"24px\" viewBox=\"0 -960 960 960\">\n",
              "    <path d=\"M120-120v-720h720v720H120Zm60-500h600v-160H180v160Zm220 220h160v-160H400v160Zm0 220h160v-160H400v160ZM180-400h160v-160H180v160Zm440 0h160v-160H620v160ZM180-180h160v-160H180v160Zm440 0h160v-160H620v160Z\"/>\n",
              "  </svg>\n",
              "    </button>\n",
              "\n",
              "  <style>\n",
              "    .colab-df-container {\n",
              "      display:flex;\n",
              "      gap: 12px;\n",
              "    }\n",
              "\n",
              "    .colab-df-convert {\n",
              "      background-color: #E8F0FE;\n",
              "      border: none;\n",
              "      border-radius: 50%;\n",
              "      cursor: pointer;\n",
              "      display: none;\n",
              "      fill: #1967D2;\n",
              "      height: 32px;\n",
              "      padding: 0 0 0 0;\n",
              "      width: 32px;\n",
              "    }\n",
              "\n",
              "    .colab-df-convert:hover {\n",
              "      background-color: #E2EBFA;\n",
              "      box-shadow: 0px 1px 2px rgba(60, 64, 67, 0.3), 0px 1px 3px 1px rgba(60, 64, 67, 0.15);\n",
              "      fill: #174EA6;\n",
              "    }\n",
              "\n",
              "    .colab-df-buttons div {\n",
              "      margin-bottom: 4px;\n",
              "    }\n",
              "\n",
              "    [theme=dark] .colab-df-convert {\n",
              "      background-color: #3B4455;\n",
              "      fill: #D2E3FC;\n",
              "    }\n",
              "\n",
              "    [theme=dark] .colab-df-convert:hover {\n",
              "      background-color: #434B5C;\n",
              "      box-shadow: 0px 1px 3px 1px rgba(0, 0, 0, 0.15);\n",
              "      filter: drop-shadow(0px 1px 2px rgba(0, 0, 0, 0.3));\n",
              "      fill: #FFFFFF;\n",
              "    }\n",
              "  </style>\n",
              "\n",
              "    <script>\n",
              "      const buttonEl =\n",
              "        document.querySelector('#df-c33b617f-6444-406d-8c84-3762c385f235 button.colab-df-convert');\n",
              "      buttonEl.style.display =\n",
              "        google.colab.kernel.accessAllowed ? 'block' : 'none';\n",
              "\n",
              "      async function convertToInteractive(key) {\n",
              "        const element = document.querySelector('#df-c33b617f-6444-406d-8c84-3762c385f235');\n",
              "        const dataTable =\n",
              "          await google.colab.kernel.invokeFunction('convertToInteractive',\n",
              "                                                    [key], {});\n",
              "        if (!dataTable) return;\n",
              "\n",
              "        const docLinkHtml = 'Like what you see? Visit the ' +\n",
              "          '<a target=\"_blank\" href=https://colab.research.google.com/notebooks/data_table.ipynb>data table notebook</a>'\n",
              "          + ' to learn more about interactive tables.';\n",
              "        element.innerHTML = '';\n",
              "        dataTable['output_type'] = 'display_data';\n",
              "        await google.colab.output.renderOutput(dataTable, element);\n",
              "        const docLink = document.createElement('div');\n",
              "        docLink.innerHTML = docLinkHtml;\n",
              "        element.appendChild(docLink);\n",
              "      }\n",
              "    </script>\n",
              "  </div>\n",
              "\n",
              "\n",
              "    <div id=\"df-ce5ff1ae-34d6-4504-bae0-f9d7eda87192\">\n",
              "      <button class=\"colab-df-quickchart\" onclick=\"quickchart('df-ce5ff1ae-34d6-4504-bae0-f9d7eda87192')\"\n",
              "                title=\"Suggest charts\"\n",
              "                style=\"display:none;\">\n",
              "\n",
              "<svg xmlns=\"http://www.w3.org/2000/svg\" height=\"24px\"viewBox=\"0 0 24 24\"\n",
              "     width=\"24px\">\n",
              "    <g>\n",
              "        <path d=\"M19 3H5c-1.1 0-2 .9-2 2v14c0 1.1.9 2 2 2h14c1.1 0 2-.9 2-2V5c0-1.1-.9-2-2-2zM9 17H7v-7h2v7zm4 0h-2V7h2v10zm4 0h-2v-4h2v4z\"/>\n",
              "    </g>\n",
              "</svg>\n",
              "      </button>\n",
              "\n",
              "<style>\n",
              "  .colab-df-quickchart {\n",
              "      --bg-color: #E8F0FE;\n",
              "      --fill-color: #1967D2;\n",
              "      --hover-bg-color: #E2EBFA;\n",
              "      --hover-fill-color: #174EA6;\n",
              "      --disabled-fill-color: #AAA;\n",
              "      --disabled-bg-color: #DDD;\n",
              "  }\n",
              "\n",
              "  [theme=dark] .colab-df-quickchart {\n",
              "      --bg-color: #3B4455;\n",
              "      --fill-color: #D2E3FC;\n",
              "      --hover-bg-color: #434B5C;\n",
              "      --hover-fill-color: #FFFFFF;\n",
              "      --disabled-bg-color: #3B4455;\n",
              "      --disabled-fill-color: #666;\n",
              "  }\n",
              "\n",
              "  .colab-df-quickchart {\n",
              "    background-color: var(--bg-color);\n",
              "    border: none;\n",
              "    border-radius: 50%;\n",
              "    cursor: pointer;\n",
              "    display: none;\n",
              "    fill: var(--fill-color);\n",
              "    height: 32px;\n",
              "    padding: 0;\n",
              "    width: 32px;\n",
              "  }\n",
              "\n",
              "  .colab-df-quickchart:hover {\n",
              "    background-color: var(--hover-bg-color);\n",
              "    box-shadow: 0 1px 2px rgba(60, 64, 67, 0.3), 0 1px 3px 1px rgba(60, 64, 67, 0.15);\n",
              "    fill: var(--button-hover-fill-color);\n",
              "  }\n",
              "\n",
              "  .colab-df-quickchart-complete:disabled,\n",
              "  .colab-df-quickchart-complete:disabled:hover {\n",
              "    background-color: var(--disabled-bg-color);\n",
              "    fill: var(--disabled-fill-color);\n",
              "    box-shadow: none;\n",
              "  }\n",
              "\n",
              "  .colab-df-spinner {\n",
              "    border: 2px solid var(--fill-color);\n",
              "    border-color: transparent;\n",
              "    border-bottom-color: var(--fill-color);\n",
              "    animation:\n",
              "      spin 1s steps(1) infinite;\n",
              "  }\n",
              "\n",
              "  @keyframes spin {\n",
              "    0% {\n",
              "      border-color: transparent;\n",
              "      border-bottom-color: var(--fill-color);\n",
              "      border-left-color: var(--fill-color);\n",
              "    }\n",
              "    20% {\n",
              "      border-color: transparent;\n",
              "      border-left-color: var(--fill-color);\n",
              "      border-top-color: var(--fill-color);\n",
              "    }\n",
              "    30% {\n",
              "      border-color: transparent;\n",
              "      border-left-color: var(--fill-color);\n",
              "      border-top-color: var(--fill-color);\n",
              "      border-right-color: var(--fill-color);\n",
              "    }\n",
              "    40% {\n",
              "      border-color: transparent;\n",
              "      border-right-color: var(--fill-color);\n",
              "      border-top-color: var(--fill-color);\n",
              "    }\n",
              "    60% {\n",
              "      border-color: transparent;\n",
              "      border-right-color: var(--fill-color);\n",
              "    }\n",
              "    80% {\n",
              "      border-color: transparent;\n",
              "      border-right-color: var(--fill-color);\n",
              "      border-bottom-color: var(--fill-color);\n",
              "    }\n",
              "    90% {\n",
              "      border-color: transparent;\n",
              "      border-bottom-color: var(--fill-color);\n",
              "    }\n",
              "  }\n",
              "</style>\n",
              "\n",
              "      <script>\n",
              "        async function quickchart(key) {\n",
              "          const quickchartButtonEl =\n",
              "            document.querySelector('#' + key + ' button');\n",
              "          quickchartButtonEl.disabled = true;  // To prevent multiple clicks.\n",
              "          quickchartButtonEl.classList.add('colab-df-spinner');\n",
              "          try {\n",
              "            const charts = await google.colab.kernel.invokeFunction(\n",
              "                'suggestCharts', [key], {});\n",
              "          } catch (error) {\n",
              "            console.error('Error during call to suggestCharts:', error);\n",
              "          }\n",
              "          quickchartButtonEl.classList.remove('colab-df-spinner');\n",
              "          quickchartButtonEl.classList.add('colab-df-quickchart-complete');\n",
              "        }\n",
              "        (() => {\n",
              "          let quickchartButtonEl =\n",
              "            document.querySelector('#df-ce5ff1ae-34d6-4504-bae0-f9d7eda87192 button');\n",
              "          quickchartButtonEl.style.display =\n",
              "            google.colab.kernel.accessAllowed ? 'block' : 'none';\n",
              "        })();\n",
              "      </script>\n",
              "    </div>\n",
              "\n",
              "  <div id=\"id_af82fe8c-172b-4394-9b22-5c16eaef131c\">\n",
              "    <style>\n",
              "      .colab-df-generate {\n",
              "        background-color: #E8F0FE;\n",
              "        border: none;\n",
              "        border-radius: 50%;\n",
              "        cursor: pointer;\n",
              "        display: none;\n",
              "        fill: #1967D2;\n",
              "        height: 32px;\n",
              "        padding: 0 0 0 0;\n",
              "        width: 32px;\n",
              "      }\n",
              "\n",
              "      .colab-df-generate:hover {\n",
              "        background-color: #E2EBFA;\n",
              "        box-shadow: 0px 1px 2px rgba(60, 64, 67, 0.3), 0px 1px 3px 1px rgba(60, 64, 67, 0.15);\n",
              "        fill: #174EA6;\n",
              "      }\n",
              "\n",
              "      [theme=dark] .colab-df-generate {\n",
              "        background-color: #3B4455;\n",
              "        fill: #D2E3FC;\n",
              "      }\n",
              "\n",
              "      [theme=dark] .colab-df-generate:hover {\n",
              "        background-color: #434B5C;\n",
              "        box-shadow: 0px 1px 3px 1px rgba(0, 0, 0, 0.15);\n",
              "        filter: drop-shadow(0px 1px 2px rgba(0, 0, 0, 0.3));\n",
              "        fill: #FFFFFF;\n",
              "      }\n",
              "    </style>\n",
              "    <button class=\"colab-df-generate\" onclick=\"generateWithVariable('df')\"\n",
              "            title=\"Generate code using this dataframe.\"\n",
              "            style=\"display:none;\">\n",
              "\n",
              "  <svg xmlns=\"http://www.w3.org/2000/svg\" height=\"24px\"viewBox=\"0 0 24 24\"\n",
              "       width=\"24px\">\n",
              "    <path d=\"M7,19H8.4L18.45,9,17,7.55,7,17.6ZM5,21V16.75L18.45,3.32a2,2,0,0,1,2.83,0l1.4,1.43a1.91,1.91,0,0,1,.58,1.4,1.91,1.91,0,0,1-.58,1.4L9.25,21ZM18.45,9,17,7.55Zm-12,3A5.31,5.31,0,0,0,4.9,8.1,5.31,5.31,0,0,0,1,6.5,5.31,5.31,0,0,0,4.9,4.9,5.31,5.31,0,0,0,6.5,1,5.31,5.31,0,0,0,8.1,4.9,5.31,5.31,0,0,0,12,6.5,5.46,5.46,0,0,0,6.5,12Z\"/>\n",
              "  </svg>\n",
              "    </button>\n",
              "    <script>\n",
              "      (() => {\n",
              "      const buttonEl =\n",
              "        document.querySelector('#id_af82fe8c-172b-4394-9b22-5c16eaef131c button.colab-df-generate');\n",
              "      buttonEl.style.display =\n",
              "        google.colab.kernel.accessAllowed ? 'block' : 'none';\n",
              "\n",
              "      buttonEl.onclick = () => {\n",
              "        google.colab.notebook.generateWithVariable('df');\n",
              "      }\n",
              "      })();\n",
              "    </script>\n",
              "  </div>\n",
              "\n",
              "    </div>\n",
              "  </div>\n"
            ],
            "text/plain": [
              "       ชื่อ          คณะ  คณะ_มาตรฐาน\n",
              "0     สมชาย  วิทยาศาสตร์  วิทยาศาสตร์\n",
              "1    สมหญิง  วิทยาศาสตร์  วิทยาศาสตร์\n",
              "2  สมศักดิ์  วิทยาศาสตร์  วิทยาศาสตร์\n",
              "3      สมใจ   ศิลปศาสตร์   ศิลปศาสตร์\n",
              "4     สมปอง        วิทย์  วิทยาศาสตร์"
            ]
          },
          "execution_count": 75,
          "metadata": {},
          "output_type": "execute_result"
        }
      ],
      "source": [
        "df"
      ]
    },
    {
      "cell_type": "markdown",
      "metadata": {
        "id": "paLJMGZxRmT8"
      },
      "source": [
        "#3.3 การจัดการค่าผิดปกติ"
      ]
    },
    {
      "cell_type": "code",
      "execution_count": 76,
      "metadata": {
        "id": "OxAuyIqrQUO0"
      },
      "outputs": [],
      "source": [
        "data = {\n",
        "    'ชื่อ': ['นักศึกษา1', 'นักศึกษา2', 'นักศึกษา3', 'นักศึกษา4', 'นักศึกษา5',\n",
        "             'นักศึกษา6', 'นักศึกษา7', 'นักศึกษา8', 'นักศึกษา9', 'นักศึกษา10'],\n",
        "    'อายุ': [20, 21, 22, 19, 20, 150, 21, 22, 23, 18]  # 150 คือค่าผิดปกติ\n",
        "}\n",
        "df = pd.DataFrame(data)"
      ]
    },
    {
      "cell_type": "code",
      "execution_count": 77,
      "metadata": {
        "colab": {
          "base_uri": "https://localhost:8080/"
        },
        "id": "ujyRdbvJRorh",
        "outputId": "a18ce8ff-2ab4-4207-ea18-8911bc337eff"
      },
      "outputs": [
        {
          "name": "stdout",
          "output_type": "stream",
          "text": [
            "ข้อมูลต้นฉบับ\n",
            "         ชื่อ  อายุ\n",
            "0   นักศึกษา1    20\n",
            "1   นักศึกษา2    21\n",
            "2   นักศึกษา3    22\n",
            "3   นักศึกษา4    19\n",
            "4   นักศึกษา5    20\n",
            "5   นักศึกษา6   150\n",
            "6   นักศึกษา7    21\n",
            "7   นักศึกษา8    22\n",
            "8   นักศึกษา9    23\n",
            "9  นักศึกษา10    18\n",
            "\n",
            "ค่าเฉลี่ยอายุ (รวมค่าผิดปกติ) - 33.60\n"
          ]
        }
      ],
      "source": [
        "print(\"ข้อมูลต้นฉบับ\")\n",
        "print(df)\n",
        "print(f\"\\nค่าเฉลี่ยอายุ (รวมค่าผิดปกติ) - {df['อายุ'].mean():.2f}\")"
      ]
    },
    {
      "cell_type": "markdown",
      "metadata": {
        "id": "R7xigyTESeHu"
      },
      "source": [
        "การหาค่า Quartile ที่ 1 (Q1) คือค่าที่มี 25% ของข้อมูลน้อยกว่าหรือเท่ากับค่านี้"
      ]
    },
    {
      "cell_type": "code",
      "execution_count": 78,
      "metadata": {
        "colab": {
          "base_uri": "https://localhost:8080/"
        },
        "id": "En1QsttdRq4M",
        "outputId": "644d37b2-067b-46a3-f54e-34319560b488"
      },
      "outputs": [
        {
          "data": {
            "text/plain": [
              "np.float64(20.0)"
            ]
          },
          "execution_count": 78,
          "metadata": {},
          "output_type": "execute_result"
        }
      ],
      "source": [
        "Q1 = df['อายุ'].quantile(0.25)\n",
        "Q1"
      ]
    },
    {
      "cell_type": "markdown",
      "metadata": {
        "id": "Kqu08cIkSpD3"
      },
      "source": [
        "หาค่า Quartile ที่ 3 (Q3) คือค่าที่มี 75% ของข้อมูลน้อยกว่าหรือเท่ากับค่านี้"
      ]
    },
    {
      "cell_type": "code",
      "execution_count": 79,
      "metadata": {
        "colab": {
          "base_uri": "https://localhost:8080/"
        },
        "id": "YNw-3AY3Rvat",
        "outputId": "96a3cece-4afc-4467-ebc4-d113fc1634a4"
      },
      "outputs": [
        {
          "data": {
            "text/plain": [
              "np.float64(22.0)"
            ]
          },
          "execution_count": 79,
          "metadata": {},
          "output_type": "execute_result"
        }
      ],
      "source": [
        "Q3 = df['อายุ'].quantile(0.75)\n",
        "Q3"
      ]
    },
    {
      "cell_type": "markdown",
      "metadata": {
        "id": "bgoweugiSwEr"
      },
      "source": [
        "การหา Interquartile Range คือช่วงระหว่าง Q1 และ Q3 บอกถึงการกระจายตัวของข้อมูลส่วนกลาง 50%"
      ]
    },
    {
      "cell_type": "code",
      "execution_count": 80,
      "metadata": {
        "colab": {
          "base_uri": "https://localhost:8080/"
        },
        "id": "ggfvH8RgRzkF",
        "outputId": "01409d3b-3d4c-4080-8728-c65ed0615680"
      },
      "outputs": [
        {
          "data": {
            "text/plain": [
              "np.float64(2.0)"
            ]
          },
          "execution_count": 80,
          "metadata": {},
          "output_type": "execute_result"
        }
      ],
      "source": [
        "IQR = Q3 - Q1\n",
        "IQR"
      ]
    },
    {
      "cell_type": "markdown",
      "metadata": {
        "id": "iffSiSRITB1d"
      },
      "source": [
        "1.5 เป็นค่ามาตรฐานที่นิยมใช้ในการหาค่าผิดปกติ\n",
        "\n",
        "lower_bound และ upper_bound ขอบเขตล่างและบน สำหรับหาว่าค่าไหนเป็นค่าที่ผิดปกติ"
      ]
    },
    {
      "cell_type": "code",
      "execution_count": 81,
      "metadata": {
        "colab": {
          "base_uri": "https://localhost:8080/"
        },
        "id": "87jfghunR2pT",
        "outputId": "13c337f6-9314-4e89-c089-92a3077021d3"
      },
      "outputs": [
        {
          "data": {
            "text/plain": [
              "(np.float64(17.0), np.float64(25.0))"
            ]
          },
          "execution_count": 81,
          "metadata": {},
          "output_type": "execute_result"
        }
      ],
      "source": [
        "lower_bound = Q1 - 1.5 * IQR\n",
        "upper_bound = Q3 + 1.5 * IQR\n",
        "\n",
        "lower_bound, upper_bound"
      ]
    },
    {
      "cell_type": "markdown",
      "metadata": {
        "id": "bR4uHiKcTPnq"
      },
      "source": [
        "การกำหนดช่วงอายุที่ต้องการใช้"
      ]
    },
    {
      "cell_type": "code",
      "execution_count": 82,
      "metadata": {
        "id": "C4Fv3OpVSEuV"
      },
      "outputs": [],
      "source": [
        "df_no_outliers = df[(df['อายุ'] >= lower_bound) & (df['อายุ'] <= upper_bound)]"
      ]
    },
    {
      "cell_type": "code",
      "execution_count": 83,
      "metadata": {
        "colab": {
          "base_uri": "https://localhost:8080/"
        },
        "id": "xYssUt17SWRM",
        "outputId": "a3479ca0-3929-4f3a-a409-3b82d40c8d9e"
      },
      "outputs": [
        {
          "name": "stdout",
          "output_type": "stream",
          "text": [
            "\n",
            "ขอบเขตล่าง - 17.0\n",
            "ขอบเขตบน - 25.0\n",
            "\n",
            "ข้อมูลหลังกรองค่าผิดปกติ\n",
            "         ชื่อ  อายุ\n",
            "0   นักศึกษา1    20\n",
            "1   นักศึกษา2    21\n",
            "2   นักศึกษา3    22\n",
            "3   นักศึกษา4    19\n",
            "4   นักศึกษา5    20\n",
            "6   นักศึกษา7    21\n",
            "7   นักศึกษา8    22\n",
            "8   นักศึกษา9    23\n",
            "9  นักศึกษา10    18\n",
            "\n",
            "ค่าเฉลี่ยอายุ (หลังกรองค่าผิดปกติ) - 20.67\n"
          ]
        }
      ],
      "source": [
        "print(f\"\\nขอบเขตล่าง - {lower_bound}\")\n",
        "print(f\"ขอบเขตบน - {upper_bound}\")\n",
        "print(f\"\\nข้อมูลหลังกรองค่าผิดปกติ\")\n",
        "print(df_no_outliers)\n",
        "print(f\"\\nค่าเฉลี่ยอายุ (หลังกรองค่าผิดปกติ) - {df_no_outliers['อายุ'].mean():.2f}\")"
      ]
    },
    {
      "cell_type": "markdown",
      "metadata": {
        "id": "jd2lm3pOTYFg"
      },
      "source": [
        "#4.1 One-Hot Encoding แปลงข้อมูลประเภทเป็นตัวเลข"
      ]
    },
    {
      "cell_type": "code",
      "execution_count": 84,
      "metadata": {
        "id": "8NCMtKz7SZXR"
      },
      "outputs": [],
      "source": [
        "data = pd.DataFrame({\n",
        "    'ชื่อ': ['A', 'B', 'C', 'D'],\n",
        "    'คณะ': ['วิทย์', 'ศิลป์', 'วิทย์', 'วิศวะ']\n",
        "})"
      ]
    },
    {
      "cell_type": "markdown",
      "metadata": {
        "id": "dkIpWry_VuPP"
      },
      "source": [
        " pd.get_dummies() ให้ผลลัพธ์แบบ boolean (True/False) สามารถแปลงเป็น 0/1 ได้ด้วย *1"
      ]
    },
    {
      "cell_type": "code",
      "execution_count": 85,
      "metadata": {
        "colab": {
          "base_uri": "https://localhost:8080/"
        },
        "id": "em8d88dVT-Ua",
        "outputId": "2e2e608e-7856-4962-9a75-b0bde45cfec2"
      },
      "outputs": [
        {
          "name": "stdout",
          "output_type": "stream",
          "text": [
            "  ชื่อ  คณะ_วิทย์  คณะ_วิศวะ  คณะ_ศิลป์\n",
            "0    A       True      False      False\n",
            "1    B      False      False       True\n",
            "2    C       True      False      False\n",
            "3    D      False       True      False\n"
          ]
        }
      ],
      "source": [
        "data_encoded = pd.get_dummies(data, columns=['คณะ'])\n",
        "print(data_encoded)"
      ]
    },
    {
      "cell_type": "code",
      "execution_count": 86,
      "metadata": {
        "colab": {
          "base_uri": "https://localhost:8080/"
        },
        "id": "edBQGz86UAI4",
        "outputId": "debaaca2-5d8e-4053-ef4b-defff2397612"
      },
      "outputs": [
        {
          "name": "stdout",
          "output_type": "stream",
          "text": [
            "  ชื่อ  คณะ_วิทย์  คณะ_วิศวะ  คณะ_ศิลป์\n",
            "0    A          1          0          0\n",
            "1    B          0          0          1\n",
            "2    C          1          0          0\n",
            "3    D          0          1          0\n"
          ]
        }
      ],
      "source": [
        "data_encoded = pd.get_dummies(data, columns=['คณะ'])\n",
        "print(data_encoded*1)"
      ]
    },
    {
      "cell_type": "markdown",
      "metadata": {
        "id": "X7ezhR2HV5BU"
      },
      "source": [
        "#4.2 การสร้าง Feature จากวันเวลา"
      ]
    },
    {
      "cell_type": "markdown",
      "metadata": {
        "id": "ea1FMU0YWVit"
      },
      "source": [
        "แปลง string ให้เป็นประเภท datetime ที่ pandas สามารถจัดการและคำนวณได้"
      ]
    },
    {
      "cell_type": "code",
      "execution_count": 87,
      "metadata": {
        "id": "EH3zBHzwUMzU"
      },
      "outputs": [],
      "source": [
        "coffee_data = pd.DataFrame({\n",
        "    'วันเวลา': pd.to_datetime(['2024-01-15 07:30', '2024-01-15 12:00',\n",
        "                               '2024-01-15 16:30', '2024-01-16 08:00']),\n",
        "    'ยอดขาย': [1500, 3200, 2100, 1800]\n",
        "})"
      ]
    },
    {
      "cell_type": "markdown",
      "metadata": {
        "id": "3gnBg7ZkWvne"
      },
      "source": [
        ".dt.hour - ดึงชั่วโมงจาก datetime เช่น 07:30 จะได้ 7, 12:00 จะได้ 12\n",
        "\n",
        ".dt.day_name() - ดึงชื่อวันในสัปดาห์เป็นภาษาอังกฤษ เช่น Monday, Tuesday เป็นต้น\n",
        "\n",
        "pd.cut() - แบ่งข้อมูลตัวเลขเป็นช่วง (bins) และใส่ label ให้แต่ละช่วง\n",
        "\n",
        "bins=[0, 10, 14, 18, 24] - กำหนดขอบเขตของแต่ละช่วง (0-10, 10-14, 14-18, 18-24)\n",
        "\n",
        "labels=['เช้า', 'กลางวัน', 'บ่าย', 'เย็น'] - ชื่อที่จะใช้เรียกแต่ละช่วง"
      ]
    },
    {
      "cell_type": "code",
      "execution_count": 88,
      "metadata": {
        "id": "3O3X_S36U7Ew"
      },
      "outputs": [],
      "source": [
        "coffee_data['ชั่วโมง'] = coffee_data['วันเวลา'].dt.hour\n",
        "coffee_data['วันในสัปดาห์'] = coffee_data['วันเวลา'].dt.day_name()\n",
        "coffee_data['ช่วงเวลา'] = pd.cut(coffee_data['ชั่วโมง'],\n",
        "                                  bins=[0, 10, 14, 18, 24],\n",
        "                                  labels=['เช้า', 'กลางวัน', 'บ่าย', 'เย็น'])"
      ]
    },
    {
      "cell_type": "code",
      "execution_count": 89,
      "metadata": {
        "colab": {
          "base_uri": "https://localhost:8080/"
        },
        "id": "ZeUEnM37WA2q",
        "outputId": "8085b689-595c-4f21-e11a-dd468d2ab28c"
      },
      "outputs": [
        {
          "name": "stdout",
          "output_type": "stream",
          "text": [
            "              วันเวลา ช่วงเวลา  ยอดขาย\n",
            "0 2024-01-15 07:30:00     เช้า    1500\n",
            "1 2024-01-15 12:00:00  กลางวัน    3200\n",
            "2 2024-01-15 16:30:00     บ่าย    2100\n",
            "3 2024-01-16 08:00:00     เช้า    1800\n"
          ]
        }
      ],
      "source": [
        "print(coffee_data[['วันเวลา', 'ช่วงเวลา', 'ยอดขาย']])"
      ]
    },
    {
      "cell_type": "markdown",
      "metadata": {
        "id": "SUCHqegFXPUc"
      },
      "source": [
        "#4.3 การรวม Features"
      ]
    },
    {
      "cell_type": "code",
      "execution_count": 90,
      "metadata": {
        "id": "2XJDz1KSWDF_"
      },
      "outputs": [],
      "source": [
        "student_health = pd.DataFrame({\n",
        "    'ชื่อ': ['สมชาย', 'สมหญิง', 'สมศักดิ์'],\n",
        "    'ส่วนสูง_cm': [170, 165, 175],\n",
        "    'น้ำหนัก_kg': [65, 55, 80]\n",
        "})"
      ]
    },
    {
      "cell_type": "markdown",
      "metadata": {
        "id": "1IhwlA_NXoj0"
      },
      "source": [
        "สูตร BMI = น้ำหนัก(กิโลกรัม) / ส่วนสูง(เมตร)²\n",
        "\n",
        "student_health['ส่วนสูง_cm']/100 เป็นการแปลงส่วนสูงจากเซนติเมตรเป็นเมตร\n",
        "\n",
        "และ **2 คือ การยกกำลังสอง\n",
        "\n",
        "pd.cut() เป็นการแบ่งค่า BMI เป็นช่วงตามเกณฑ์มาตรฐาน\n",
        "0-18.5 = ผอม\n",
        "18.5-25 = ปกติ\n",
        "25-30 = อ้วน\n",
        "30-100 = อ้วนมาก"
      ]
    },
    {
      "cell_type": "code",
      "execution_count": 91,
      "metadata": {
        "id": "90tsHJJrXUnu"
      },
      "outputs": [],
      "source": [
        "student_health['BMI'] = student_health['น้ำหนัก_kg'] / (student_health['ส่วนสูง_cm']/100)**2\n",
        "student_health['สุขภาพ'] = pd.cut(student_health['BMI'],\n",
        "                                   bins=[0, 18.5, 25, 30, 100],\n",
        "                                   labels=['ผอม', 'ปกติ', 'อ้วน', 'อ้วนมาก'])"
      ]
    },
    {
      "cell_type": "code",
      "execution_count": 92,
      "metadata": {
        "colab": {
          "base_uri": "https://localhost:8080/"
        },
        "id": "-tbOhZ2wXYQy",
        "outputId": "5153ca27-3b41-4bb7-d318-e0e70272b85d"
      },
      "outputs": [
        {
          "name": "stdout",
          "output_type": "stream",
          "text": [
            "       ชื่อ        BMI สุขภาพ\n",
            "0     สมชาย  22.491349   ปกติ\n",
            "1    สมหญิง  20.202020   ปกติ\n",
            "2  สมศักดิ์  26.122449   อ้วน\n"
          ]
        }
      ],
      "source": [
        "print(student_health[['ชื่อ', 'BMI', 'สุขภาพ']])"
      ]
    },
    {
      "cell_type": "code",
      "execution_count": 92,
      "metadata": {
        "id": "KyMc5RBUXanV"
      },
      "outputs": [],
      "source": []
    }
  ],
  "metadata": {
    "colab": {
      "provenance": []
    },
    "kernelspec": {
      "display_name": "Python 3",
      "name": "python3"
    },
    "language_info": {
      "name": "python"
    }
  },
  "nbformat": 4,
  "nbformat_minor": 0
}
